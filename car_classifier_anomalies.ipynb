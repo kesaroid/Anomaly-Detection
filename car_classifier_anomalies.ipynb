{
  "nbformat": 4,
  "nbformat_minor": 0,
  "metadata": {
    "colab": {
      "name": "car_classifier_anomalies.ipynb",
      "version": "0.3.2",
      "provenance": [],
      "collapsed_sections": []
    },
    "kernelspec": {
      "name": "python3",
      "display_name": "Python 3"
    },
    "accelerator": "GPU"
  },
  "cells": [
    {
      "metadata": {
        "id": "g-roeHZ0kPqs",
        "colab_type": "code",
        "colab": {}
      },
      "cell_type": "code",
      "source": [
        "from keras.preprocessing.image import ImageDataGenerator\n",
        "from keras.applications.resnet50 import ResNet50\n",
        "from keras.engine.input_layer import Input\n",
        "from keras.layers import Dense\n",
        "from sklearn.cluster import KMeans\n",
        "from sklearn.preprocessing import StandardScaler\n",
        "from sklearn.decomposition import PCA\n",
        "from sklearn.model_selection import GridSearchCV, StratifiedShuffleSplit\n",
        "from sklearn.ensemble import IsolationForest\n",
        "from sklearn import svm\n",
        "from sklearn.metrics import confusion_matrix\n",
        "from PIL import Image\n",
        "import numpy as np\n",
        "import glob\n",
        "import cv2\n",
        "import os\n",
        "from matplotlib import pyplot as plt\n",
        "\n",
        "path = '/content/gdrive/My Drive/car_classifier/dataset/'\n",
        "example = path + 'tes/test/07943.jpg'\n",
        "img_height, img_width = 224, 224                               # 224, 224\n",
        "batch_size = 512"
      ],
      "execution_count": 0,
      "outputs": []
    },
    {
      "metadata": {
        "id": "kZTLOLm4lGwy",
        "colab_type": "code",
        "outputId": "8c6b22e9-3df3-40ad-ea07-3a1dba3a5b77",
        "colab": {
          "base_uri": "https://localhost:8080/",
          "height": 120
        }
      },
      "cell_type": "code",
      "source": [
        "from google.colab import drive\n",
        "drive.mount('/content/gdrive')"
      ],
      "execution_count": 0,
      "outputs": [
        {
          "output_type": "stream",
          "text": [
            "Go to this URL in a browser: https://accounts.google.com/o/oauth2/auth?client_id=947318989803-6bn6qk8qdgf4n4g3pfee6491hc0brc4i.apps.googleusercontent.com&redirect_uri=urn%3Aietf%3Awg%3Aoauth%3A2.0%3Aoob&scope=email%20https%3A%2F%2Fwww.googleapis.com%2Fauth%2Fdocs.test%20https%3A%2F%2Fwww.googleapis.com%2Fauth%2Fdrive%20https%3A%2F%2Fwww.googleapis.com%2Fauth%2Fdrive.photos.readonly%20https%3A%2F%2Fwww.googleapis.com%2Fauth%2Fpeopleapi.readonly&response_type=code\n",
            "\n",
            "Enter your authorization code:\n",
            "··········\n",
            "Mounted at /content/gdrive\n"
          ],
          "name": "stdout"
        }
      ]
    },
    {
      "metadata": {
        "id": "k8sqvVLjMJkX",
        "colab_type": "text"
      },
      "cell_type": "markdown",
      "source": [
        "## Data Loading"
      ]
    },
    {
      "metadata": {
        "id": "oA0mYXVDVZFx",
        "colab_type": "code",
        "colab": {}
      },
      "cell_type": "code",
      "source": [
        "filepath = [f for f in os.listdir(path + 'train_outlier/car_outlier/') if os.path.isfile(os.path.join(path + 'train_outlier/car_outlier/', f))]\n",
        "filepath.sort()\n",
        "filepath"
      ],
      "execution_count": 0,
      "outputs": []
    },
    {
      "metadata": {
        "id": "dlf2YxmZz0Kb",
        "colab_type": "code",
        "colab": {}
      },
      "cell_type": "code",
      "source": [
        "# 1.Using traditional cv2\n",
        "\n",
        "X_train1 = []\n",
        "\n",
        "# Load in the images\n",
        "for i, file in enumerate(filepath):\n",
        "    img = cv2.imread(path + 'train_outlier/car_outlier/{0}'.format(file))\n",
        "    img = cv2.normalize(img, None, alpha=0, beta=1, norm_type=cv2.NORM_MINMAX, dtype=cv2.CV_32F)\n",
        "    X_train1.append(img)\n",
        "    if i % 100 == 0:\n",
        "      print('{} images loaded'.format(i))\n",
        "    \n",
        "\n",
        "X_train1 = np.asarray(X_train1)"
      ],
      "execution_count": 0,
      "outputs": []
    },
    {
      "metadata": {
        "id": "omrgezNwwZio",
        "colab_type": "code",
        "colab": {}
      },
      "cell_type": "code",
      "source": [
        "X_test1 = []\n",
        "\n",
        "# Load in the images\n",
        "for filepath in os.listdir(path + 'test/car/'):\n",
        "    img = cv2.imread(path + 'test/car/{0}'.format(filepath))\n",
        "    img = cv2.normalize(img, None, alpha=0, beta=1, norm_type=cv2.NORM_MINMAX, dtype=cv2.CV_32F)\n",
        "    X_test1.append(img)\n",
        "\n",
        "X_test1 = np.asarray(X_test1)"
      ],
      "execution_count": 0,
      "outputs": []
    },
    {
      "metadata": {
        "id": "8vLyZflVoj_3",
        "colab_type": "code",
        "outputId": "477d3ed5-e9ac-46bd-b9b8-2fa7100424d5",
        "colab": {
          "base_uri": "https://localhost:8080/",
          "height": 50
        }
      },
      "cell_type": "code",
      "source": [
        "print(\"X_train Shape: \",X_train1.shape)\n",
        "print(\"X_test Shape: \",X_test1.shape)"
      ],
      "execution_count": 0,
      "outputs": [
        {
          "output_type": "stream",
          "text": [
            "X_train Shape:  (6380, 224, 224, 3)\n",
            "X_test Shape:  (165, 224, 224, 3)\n"
          ],
          "name": "stdout"
        }
      ]
    },
    {
      "metadata": {
        "id": "L9kM9j9LMEY6",
        "colab_type": "text"
      },
      "cell_type": "markdown",
      "source": [
        "## Feature Extraction"
      ]
    },
    {
      "metadata": {
        "id": "nTmCrUetm9kj",
        "colab_type": "code",
        "colab": {}
      },
      "cell_type": "code",
      "source": [
        "def extract_resnet(X):  \n",
        "    # X : images numpy array\n",
        "    resnet_model = ResNet50(input_shape=(img_height, img_width, 3), weights='imagenet', include_top=False, pooling='avg')\n",
        "    features_array = resnet_model.predict(X)\n",
        "    return features_array"
      ],
      "execution_count": 0,
      "outputs": []
    },
    {
      "metadata": {
        "id": "mjlc6lFuR8S1",
        "colab_type": "code",
        "outputId": "2a395a8c-a588-41c6-c3ce-f4d10f086414",
        "colab": {
          "base_uri": "https://localhost:8080/",
          "height": 137
        }
      },
      "cell_type": "code",
      "source": [
        "X_train = extract_resnet(X_train1)\n",
        "X_test = extract_resnet(X_test1)\n",
        "print('feature dimentions', X_train.shape, X_test.shape)"
      ],
      "execution_count": 0,
      "outputs": [
        {
          "output_type": "stream",
          "text": [
            "WARNING:tensorflow:From /usr/local/lib/python3.6/dist-packages/tensorflow/python/framework/op_def_library.py:263: colocate_with (from tensorflow.python.framework.ops) is deprecated and will be removed in a future version.\n",
            "Instructions for updating:\n",
            "Colocations handled automatically by placer.\n",
            "Downloading data from https://github.com/fchollet/deep-learning-models/releases/download/v0.2/resnet50_weights_tf_dim_ordering_tf_kernels_notop.h5\n",
            "94658560/94653016 [==============================] - 4s 0us/step\n",
            "feature dimentions (6380, 2048) (165, 2048)\n"
          ],
          "name": "stdout"
        }
      ]
    },
    {
      "metadata": {
        "id": "4EKW8xnmyUTt",
        "colab_type": "code",
        "outputId": "5c269c01-826f-40a4-dcb4-e66fba6f0752",
        "colab": {
          "base_uri": "https://localhost:8080/",
          "height": 283
        }
      },
      "cell_type": "code",
      "source": [
        "plt.scatter(X_train[0], X_train[1], alpha=0.5, color='b')\n",
        "plt.scatter(X_test[0], X_test[1], alpha=0.2, color='r')\n",
        "plt.xlabel('X')\n",
        "plt.ylabel('Y');"
      ],
      "execution_count": 0,
      "outputs": [
        {
          "output_type": "display_data",
          "data": {
            "image/png": "[encoded data removed]",
            "text/plain": [
              "<Figure size 432x288 with 1 Axes>"
            ]
          },
          "metadata": {
            "tags": []
          }
        }
      ]
    },
    {
      "metadata": {
        "id": "Ukuy-dmr4WjF",
        "colab_type": "code",
        "outputId": "b7878f0a-0e61-4105-b358-0eb47adfe0e4",
        "colab": {
          "base_uri": "https://localhost:8080/",
          "height": 33
        }
      },
      "cell_type": "code",
      "source": [
        "# Apply standard scaler to output from resnet50\n",
        "ss = StandardScaler()\n",
        "ss.fit(X_train)\n",
        "X_train = ss.transform(X_train)\n",
        "X_test = ss.transform(X_test)\n",
        "\n",
        "# Take PCA to reduce feature space dimensionality\n",
        "pca = PCA(n_components=1024, whiten=True)\n",
        "pca = pca.fit(X_train)\n",
        "print('Explained variance percentage = %0.2f' % sum(pca.explained_variance_ratio_))\n",
        "X_train = pca.transform(X_train)\n",
        "X_test = pca.transform(X_test)"
      ],
      "execution_count": 0,
      "outputs": [
        {
          "output_type": "stream",
          "text": [
            "Explained variance percentage = 1.00\n"
          ],
          "name": "stdout"
        }
      ]
    },
    {
      "metadata": {
        "id": "ttUvJ3GpN-bN",
        "colab_type": "text"
      },
      "cell_type": "markdown",
      "source": [
        "## Model Fit"
      ]
    },
    {
      "metadata": {
        "id": "hyjBPGGyNuRR",
        "colab_type": "code",
        "colab": {}
      },
      "cell_type": "code",
      "source": [
        "# Isolation Forest\n",
        "if_clf = IsolationForest()       # contamination=0.08, max_features=1.0, max_samples=1.0, n_estimators=40\n",
        "\n",
        "if_clf.fit(X_train)"
      ],
      "execution_count": 0,
      "outputs": []
    },
    {
      "metadata": {
        "id": "qp4DExsa5D9K",
        "colab_type": "code",
        "colab": {}
      },
      "cell_type": "code",
      "source": [
        "# The standard scaler and PCA part remain same. Just that we will also require a validation set to fit\n",
        "# isotonic regressor on the probability density scores returned by GMM\n",
        "\n",
        "# Also assuming that resnet feature generation is done\n",
        "from sklearn.mixture import GaussianMixture\n",
        "from sklearn.isotonic import IsotonicRegression\n",
        "gmm_clf = GaussianMixture(covariance_type='full', n_components=18, max_iter=int(1e7))  # Obtained via grid search\n",
        "gmm_clf.fit(X_train)\n",
        "log_probs_val = gmm_clf.score_samples(X_test)\n",
        "isotonic_regressor = IsotonicRegression(out_of_bounds='clip')\n",
        "isotonic_regressor.fit(log_probs_val, y_true)  # y_val is for labels 0 - not food 1 - food (validation set)\n",
        "\n",
        "# Obtaining results on the test set\n",
        "log_probs_test = gmm_clf.score_samples(X_test)\n",
        "test_probabilities = isotonic_regressor.predict(log_probs_test)\n",
        "test_predictions = [1 if prob >= 0.5 else 0 for prob in test_probabilities]\n",
        "\n",
        "# Calculate accuracy metrics"
      ],
      "execution_count": 0,
      "outputs": []
    },
    {
      "metadata": {
        "id": "0vrIhPp8euD4",
        "colab_type": "text"
      },
      "cell_type": "markdown",
      "source": [
        "## Grid Search"
      ]
    },
    {
      "metadata": {
        "id": "JAN9MzDWXrSQ",
        "colab_type": "code",
        "colab": {}
      },
      "cell_type": "code",
      "source": [
        "y_good = [-1] * 6000\n",
        "y_bad = [1] * 380\n",
        "y_train = y_good + y_bad\n",
        "\n",
        "y_train = np.asarray(y_train)\n",
        "\n",
        "y_good = [-1] * 100\n",
        "y_bad = [1] * 65\n",
        "y_test = y_good + y_bad\n",
        "\n",
        "y_test = np.asarray(y_test)"
      ],
      "execution_count": 0,
      "outputs": []
    },
    {
      "metadata": {
        "id": "HY2eNGtl_HgQ",
        "colab_type": "code",
        "outputId": "e1f83b53-543f-4475-f231-bb3f36d1cf87",
        "colab": {
          "base_uri": "https://localhost:8080/",
          "height": 50
        }
      },
      "cell_type": "code",
      "source": [
        "print(y_train.shape)\n",
        "print(y_test.shape)\n",
        "\n",
        "# x = np.var(X_train)"
      ],
      "execution_count": 0,
      "outputs": [
        {
          "output_type": "stream",
          "text": [
            "(6380,)\n",
            "(165,)\n"
          ],
          "name": "stdout"
        }
      ]
    },
    {
      "metadata": {
        "id": "mG0IEkeGetgo",
        "colab_type": "code",
        "outputId": "1fd2bb7b-96f8-4570-d620-a4077f64a5bc",
        "colab": {
          "base_uri": "https://localhost:8080/",
          "height": 184
        }
      },
      "cell_type": "code",
      "source": [
        "OCSVM = {'kernel': ['rbf'], \n",
        "#          'degree': [7], \n",
        "         'gamma': [0.0009],\n",
        "         'nu': [0.2, 0.3]}\n",
        "\n",
        "cv = StratifiedShuffleSplit(n_splits=5, test_size=0.2, random_state=42)\n",
        "\n",
        "grid = GridSearchCV(estimator=svm.OneClassSVM() , param_grid= OCSVM, scoring='accuracy', cv=cv)\n",
        "grid.fit(X_train, y_train)"
      ],
      "execution_count": 0,
      "outputs": [
        {
          "output_type": "execute_result",
          "data": {
            "text/plain": [
              "GridSearchCV(cv=StratifiedShuffleSplit(n_splits=5, random_state=42, test_size=0.2,\n",
              "            train_size=None),\n",
              "       error_score='raise-deprecating',\n",
              "       estimator=OneClassSVM(cache_size=200, coef0=0.0, degree=3, gamma='auto_deprecated',\n",
              "      kernel='rbf', max_iter=-1, nu=0.5, random_state=None, shrinking=True,\n",
              "      tol=0.001, verbose=False),\n",
              "       fit_params=None, iid='warn', n_jobs=None,\n",
              "       param_grid={'kernel': ['rbf'], 'gamma': [0.0009], 'nu': [1]},\n",
              "       pre_dispatch='2*n_jobs', refit=True, return_train_score='warn',\n",
              "       scoring='accuracy', verbose=0)"
            ]
          },
          "metadata": {
            "tags": []
          },
          "execution_count": 41
        }
      ]
    },
    {
      "metadata": {
        "id": "23UtYGb_60jT",
        "colab_type": "code",
        "outputId": "1d1097f0-1c3e-47b4-fb05-80dcbc090909",
        "colab": {
          "base_uri": "https://localhost:8080/",
          "height": 67
        }
      },
      "cell_type": "code",
      "source": [
        "grid.best_estimator_"
      ],
      "execution_count": 0,
      "outputs": [
        {
          "output_type": "execute_result",
          "data": {
            "text/plain": [
              "OneClassSVM(cache_size=200, coef0=0.0, degree=3, gamma=0.0009, kernel='rbf',\n",
              "      max_iter=-1, nu=1, random_state=None, shrinking=True, tol=0.001,\n",
              "      verbose=False)"
            ]
          },
          "metadata": {
            "tags": []
          },
          "execution_count": 42
        }
      ]
    },
    {
      "metadata": {
        "id": "27BcUSfcewB6",
        "colab_type": "text"
      },
      "cell_type": "markdown",
      "source": [
        "## Prediction"
      ]
    },
    {
      "metadata": {
        "id": "KrsfZ_0RCWhu",
        "colab_type": "code",
        "colab": {}
      },
      "cell_type": "code",
      "source": [
        "# OCSVM\n",
        "oc_svm_clf = svm.OneClassSVM(kernel='rbf', degree=7, gamma=0.009, nu=0.16)            # Best = rbf, gamma=0.009, nu=0.15; loss=[93 7, 13 52]\n",
        "\n",
        "oc_svm_clf.fit(X_train)"
      ],
      "execution_count": 0,
      "outputs": []
    },
    {
      "metadata": {
        "id": "8zBDM--VJBYQ",
        "colab_type": "code",
        "colab": {}
      },
      "cell_type": "code",
      "source": [
        "oc_svm_preds = oc_svm_clf.predict(X_test)\n",
        "\n",
        "oc_svm_preds"
      ],
      "execution_count": 0,
      "outputs": []
    },
    {
      "metadata": {
        "id": "nb_x_3LOOZYL",
        "colab_type": "code",
        "colab": {}
      },
      "cell_type": "code",
      "source": [
        "matrix = confusion_matrix(y_test, oc_svm_preds)\n",
        "matrix"
      ],
      "execution_count": 0,
      "outputs": []
    }
  ]
}